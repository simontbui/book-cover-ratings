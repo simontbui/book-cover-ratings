{
 "cells": [
  {
   "cell_type": "code",
   "execution_count": 1,
   "id": "confused-entity",
   "metadata": {},
   "outputs": [],
   "source": [
    "import pandas as pd\n",
    "pd.options.mode.chained_assignment = None \n",
    "import skimage.io\n",
    "import numpy as np\n",
    "import matplotlib.pyplot as plt\n"
   ]
  },
  {
   "cell_type": "code",
   "execution_count": 2,
   "id": "eligible-wellington",
   "metadata": {},
   "outputs": [
    {
     "name": "stdout",
     "output_type": "stream",
     "text": [
      "6171\n"
     ]
    },
    {
     "data": {
      "text/html": [
       "<div>\n",
       "<style scoped>\n",
       "    .dataframe tbody tr th:only-of-type {\n",
       "        vertical-align: middle;\n",
       "    }\n",
       "\n",
       "    .dataframe tbody tr th {\n",
       "        vertical-align: top;\n",
       "    }\n",
       "\n",
       "    .dataframe thead th {\n",
       "        text-align: right;\n",
       "    }\n",
       "</style>\n",
       "<table border=\"1\" class=\"dataframe\">\n",
       "  <thead>\n",
       "    <tr style=\"text-align: right;\">\n",
       "      <th></th>\n",
       "      <th>img</th>\n",
       "      <th>rating</th>\n",
       "      <th>num_rating</th>\n",
       "    </tr>\n",
       "  </thead>\n",
       "  <tbody>\n",
       "    <tr>\n",
       "      <th>0</th>\n",
       "      <td>https://m.media-amazon.com/images/I/91tjikkfB6...</td>\n",
       "      <td>4.7 out of 5 stars</td>\n",
       "      <td>34758</td>\n",
       "    </tr>\n",
       "    <tr>\n",
       "      <th>1</th>\n",
       "      <td>https://m.media-amazon.com/images/I/91JkRgWPWx...</td>\n",
       "      <td>4.4 out of 5 stars</td>\n",
       "      <td>5836</td>\n",
       "    </tr>\n",
       "    <tr>\n",
       "      <th>2</th>\n",
       "      <td>https://m.media-amazon.com/images/I/71EfdZLKe9...</td>\n",
       "      <td>4.8 out of 5 stars</td>\n",
       "      <td>11843</td>\n",
       "    </tr>\n",
       "    <tr>\n",
       "      <th>3</th>\n",
       "      <td>https://m.media-amazon.com/images/I/91P4oiK4SC...</td>\n",
       "      <td>4.8 out of 5 stars</td>\n",
       "      <td>13987</td>\n",
       "    </tr>\n",
       "    <tr>\n",
       "      <th>4</th>\n",
       "      <td>https://m.media-amazon.com/images/I/81XNHNN0Jh...</td>\n",
       "      <td>4.5 out of 5 stars</td>\n",
       "      <td>3595</td>\n",
       "    </tr>\n",
       "    <tr>\n",
       "      <th>...</th>\n",
       "      <td>...</td>\n",
       "      <td>...</td>\n",
       "      <td>...</td>\n",
       "    </tr>\n",
       "    <tr>\n",
       "      <th>6158</th>\n",
       "      <td>https://m.media-amazon.com/images/I/91TNYfdOe4...</td>\n",
       "      <td>4.6 out of 5 stars</td>\n",
       "      <td>355</td>\n",
       "    </tr>\n",
       "    <tr>\n",
       "      <th>6161</th>\n",
       "      <td>https://m.media-amazon.com/images/I/91p1SzmYSL...</td>\n",
       "      <td>4.5 out of 5 stars</td>\n",
       "      <td>156</td>\n",
       "    </tr>\n",
       "    <tr>\n",
       "      <th>6162</th>\n",
       "      <td>https://m.media-amazon.com/images/I/71oPMkly7q...</td>\n",
       "      <td>4.4 out of 5 stars</td>\n",
       "      <td>117</td>\n",
       "    </tr>\n",
       "    <tr>\n",
       "      <th>6164</th>\n",
       "      <td>https://m.media-amazon.com/images/I/51xC77Cq-E...</td>\n",
       "      <td>4.3 out of 5 stars</td>\n",
       "      <td>117</td>\n",
       "    </tr>\n",
       "    <tr>\n",
       "      <th>6170</th>\n",
       "      <td>https://m.media-amazon.com/images/I/91G8MHgvUp...</td>\n",
       "      <td>4.4 out of 5 stars</td>\n",
       "      <td>190</td>\n",
       "    </tr>\n",
       "  </tbody>\n",
       "</table>\n",
       "<p>4600 rows × 3 columns</p>\n",
       "</div>"
      ],
      "text/plain": [
       "                                                    img              rating  \\\n",
       "0     https://m.media-amazon.com/images/I/91tjikkfB6...  4.7 out of 5 stars   \n",
       "1     https://m.media-amazon.com/images/I/91JkRgWPWx...  4.4 out of 5 stars   \n",
       "2     https://m.media-amazon.com/images/I/71EfdZLKe9...  4.8 out of 5 stars   \n",
       "3     https://m.media-amazon.com/images/I/91P4oiK4SC...  4.8 out of 5 stars   \n",
       "4     https://m.media-amazon.com/images/I/81XNHNN0Jh...  4.5 out of 5 stars   \n",
       "...                                                 ...                 ...   \n",
       "6158  https://m.media-amazon.com/images/I/91TNYfdOe4...  4.6 out of 5 stars   \n",
       "6161  https://m.media-amazon.com/images/I/91p1SzmYSL...  4.5 out of 5 stars   \n",
       "6162  https://m.media-amazon.com/images/I/71oPMkly7q...  4.4 out of 5 stars   \n",
       "6164  https://m.media-amazon.com/images/I/51xC77Cq-E...  4.3 out of 5 stars   \n",
       "6170  https://m.media-amazon.com/images/I/91G8MHgvUp...  4.4 out of 5 stars   \n",
       "\n",
       "      num_rating  \n",
       "0          34758  \n",
       "1           5836  \n",
       "2          11843  \n",
       "3          13987  \n",
       "4           3595  \n",
       "...          ...  \n",
       "6158         355  \n",
       "6161         156  \n",
       "6162         117  \n",
       "6164         117  \n",
       "6170         190  \n",
       "\n",
       "[4600 rows x 3 columns]"
      ]
     },
     "execution_count": 2,
     "metadata": {},
     "output_type": "execute_result"
    }
   ],
   "source": [
    "df = pd.read_csv(\"ebook_info.csv\")\n",
    "print(len(df))\n",
    "df = df[df[\"num_rating\"] >= 100]\n",
    "df"
   ]
  },
  {
   "cell_type": "code",
   "execution_count": 3,
   "id": "tamil-swift",
   "metadata": {},
   "outputs": [
    {
     "data": {
      "text/html": [
       "<div>\n",
       "<style scoped>\n",
       "    .dataframe tbody tr th:only-of-type {\n",
       "        vertical-align: middle;\n",
       "    }\n",
       "\n",
       "    .dataframe tbody tr th {\n",
       "        vertical-align: top;\n",
       "    }\n",
       "\n",
       "    .dataframe thead th {\n",
       "        text-align: right;\n",
       "    }\n",
       "</style>\n",
       "<table border=\"1\" class=\"dataframe\">\n",
       "  <thead>\n",
       "    <tr style=\"text-align: right;\">\n",
       "      <th></th>\n",
       "      <th>img</th>\n",
       "      <th>rating</th>\n",
       "    </tr>\n",
       "  </thead>\n",
       "  <tbody>\n",
       "    <tr>\n",
       "      <th>0</th>\n",
       "      <td>https://m.media-amazon.com/images/I/91tjikkfB6...</td>\n",
       "      <td>4.7 out of 5 stars</td>\n",
       "    </tr>\n",
       "    <tr>\n",
       "      <th>1</th>\n",
       "      <td>https://m.media-amazon.com/images/I/91JkRgWPWx...</td>\n",
       "      <td>4.4 out of 5 stars</td>\n",
       "    </tr>\n",
       "    <tr>\n",
       "      <th>2</th>\n",
       "      <td>https://m.media-amazon.com/images/I/71EfdZLKe9...</td>\n",
       "      <td>4.8 out of 5 stars</td>\n",
       "    </tr>\n",
       "    <tr>\n",
       "      <th>3</th>\n",
       "      <td>https://m.media-amazon.com/images/I/91P4oiK4SC...</td>\n",
       "      <td>4.8 out of 5 stars</td>\n",
       "    </tr>\n",
       "    <tr>\n",
       "      <th>4</th>\n",
       "      <td>https://m.media-amazon.com/images/I/81XNHNN0Jh...</td>\n",
       "      <td>4.5 out of 5 stars</td>\n",
       "    </tr>\n",
       "  </tbody>\n",
       "</table>\n",
       "</div>"
      ],
      "text/plain": [
       "                                                 img              rating\n",
       "0  https://m.media-amazon.com/images/I/91tjikkfB6...  4.7 out of 5 stars\n",
       "1  https://m.media-amazon.com/images/I/91JkRgWPWx...  4.4 out of 5 stars\n",
       "2  https://m.media-amazon.com/images/I/71EfdZLKe9...  4.8 out of 5 stars\n",
       "3  https://m.media-amazon.com/images/I/91P4oiK4SC...  4.8 out of 5 stars\n",
       "4  https://m.media-amazon.com/images/I/81XNHNN0Jh...  4.5 out of 5 stars"
      ]
     },
     "execution_count": 3,
     "metadata": {},
     "output_type": "execute_result"
    }
   ],
   "source": [
    "df = df[[\"img\", \"rating\"]]\n",
    "df.head()"
   ]
  },
  {
   "cell_type": "code",
   "execution_count": 4,
   "id": "reverse-luther",
   "metadata": {},
   "outputs": [
    {
     "data": {
      "text/html": [
       "<div>\n",
       "<style scoped>\n",
       "    .dataframe tbody tr th:only-of-type {\n",
       "        vertical-align: middle;\n",
       "    }\n",
       "\n",
       "    .dataframe tbody tr th {\n",
       "        vertical-align: top;\n",
       "    }\n",
       "\n",
       "    .dataframe thead th {\n",
       "        text-align: right;\n",
       "    }\n",
       "</style>\n",
       "<table border=\"1\" class=\"dataframe\">\n",
       "  <thead>\n",
       "    <tr style=\"text-align: right;\">\n",
       "      <th></th>\n",
       "      <th>img</th>\n",
       "      <th>rating</th>\n",
       "    </tr>\n",
       "  </thead>\n",
       "  <tbody>\n",
       "    <tr>\n",
       "      <th>0</th>\n",
       "      <td>https://m.media-amazon.com/images/I/91tjikkfB6...</td>\n",
       "      <td>4.7</td>\n",
       "    </tr>\n",
       "    <tr>\n",
       "      <th>1</th>\n",
       "      <td>https://m.media-amazon.com/images/I/91JkRgWPWx...</td>\n",
       "      <td>4.4</td>\n",
       "    </tr>\n",
       "    <tr>\n",
       "      <th>2</th>\n",
       "      <td>https://m.media-amazon.com/images/I/71EfdZLKe9...</td>\n",
       "      <td>4.8</td>\n",
       "    </tr>\n",
       "    <tr>\n",
       "      <th>3</th>\n",
       "      <td>https://m.media-amazon.com/images/I/91P4oiK4SC...</td>\n",
       "      <td>4.8</td>\n",
       "    </tr>\n",
       "    <tr>\n",
       "      <th>4</th>\n",
       "      <td>https://m.media-amazon.com/images/I/81XNHNN0Jh...</td>\n",
       "      <td>4.5</td>\n",
       "    </tr>\n",
       "  </tbody>\n",
       "</table>\n",
       "</div>"
      ],
      "text/plain": [
       "                                                 img  rating\n",
       "0  https://m.media-amazon.com/images/I/91tjikkfB6...     4.7\n",
       "1  https://m.media-amazon.com/images/I/91JkRgWPWx...     4.4\n",
       "2  https://m.media-amazon.com/images/I/71EfdZLKe9...     4.8\n",
       "3  https://m.media-amazon.com/images/I/91P4oiK4SC...     4.8\n",
       "4  https://m.media-amazon.com/images/I/81XNHNN0Jh...     4.5"
      ]
     },
     "execution_count": 4,
     "metadata": {},
     "output_type": "execute_result"
    }
   ],
   "source": [
    "df[\"rating\"] = df[\"rating\"].str.replace(\"out of 5 stars\", \"\").astype(float)\n",
    "df.head()"
   ]
  },
  {
   "cell_type": "code",
   "execution_count": 5,
   "id": "pacific-anaheim",
   "metadata": {},
   "outputs": [
    {
     "name": "stdout",
     "output_type": "stream",
     "text": [
      "[4.7 4.4 4.8 4.5 4.6 4.3 4.9 4.2 3.7 4.  4.1 3.9 3.8 3.6 3.5]\n",
      "# of data points with a rating of < 4.0: 36\n"
     ]
    }
   ],
   "source": [
    "print(df[\"rating\"].unique())\n",
    "print(\"# of data points with a rating of < 4.0:\", len(df[df[\"rating\"] < 4.0]))"
   ]
  },
  {
   "cell_type": "code",
   "execution_count": 6,
   "id": "disciplinary-industry",
   "metadata": {},
   "outputs": [],
   "source": [
    "df = df.loc[df[\"rating\"] >= 4.0]\n",
    "df.loc[df[\"rating\"] >= 4.5, \"rating\"] = 5.0\n",
    "df.loc[df[\"rating\"] < 4.5, \"rating\"] = 4.0"
   ]
  },
  {
   "cell_type": "code",
   "execution_count": 8,
   "id": "coral-component",
   "metadata": {},
   "outputs": [],
   "source": [
    "df[\"array\"] = df[\"img\"].apply(lambda x: skimage.io.imread(x))"
   ]
  },
  {
   "cell_type": "code",
   "execution_count": 9,
   "id": "stylish-tenant",
   "metadata": {},
   "outputs": [],
   "source": [
    "df[\"arr_shape\"] = df[\"array\"].apply(lambda x: x.shape)"
   ]
  },
  {
   "cell_type": "code",
   "execution_count": 11,
   "id": "adjacent-recipient",
   "metadata": {},
   "outputs": [
    {
     "data": {
      "text/plain": [
       "array([(218, 144, 3), (218, 141, 3), (218, 133, 3), (218, 148, 3),\n",
       "       (218, 138, 3), (218, 142, 3), (218, 145, 3), (218, 136, 3),\n",
       "       (218, 137, 3), (218, 134, 3), (218, 131, 3), (218, 135, 3),\n",
       "       (218, 140, 3), (218, 143, 3), (218, 132, 3), (218, 146, 3),\n",
       "       (218, 126, 3), (218, 189, 3), (218, 139, 3), (218, 151, 3),\n",
       "       (218, 159, 3), (218, 128, 3), (218, 149, 3), (218, 147, 3),\n",
       "       (218, 168, 3), (218, 180, 3), (218, 156, 3), (218, 154, 3),\n",
       "       (218, 163, 3), (218, 130, 3), (218, 282, 3), (218, 300, 3),\n",
       "       (218, 162, 3), (218, 150, 3), (218, 157, 3), (218, 129, 3),\n",
       "       (218, 122, 3), (218, 161, 3), (218, 256, 3), (218, 227, 3),\n",
       "       (218, 240, 3), (218, 124, 3), (218, 243, 3), (218, 236, 3),\n",
       "       (218, 250, 3), (218, 176, 3), (218, 171, 3), (218, 164, 3),\n",
       "       (218, 188, 3), (218, 184, 3), (218, 181, 3), (218, 170, 3),\n",
       "       (218, 160, 3), (218, 193, 3), (218, 153, 3), (218, 125, 3),\n",
       "       (218, 169, 3), (218, 295, 3), (218, 196, 3), (218, 234, 3),\n",
       "       (218, 247, 3), (218, 155, 3), (218, 127, 3), (218, 177, 3),\n",
       "       (218, 313, 3), (218, 205, 3), (218, 306, 3), (218, 304, 3),\n",
       "       (218, 167, 3), (218, 206, 3), (218, 174, 3), (218, 244, 3),\n",
       "       (218, 166, 3), (218, 260, 3), (218, 179, 3), (218, 158, 3),\n",
       "       (218, 123, 3), (218, 152, 3), (218, 235, 3), (218, 175, 3),\n",
       "       (218, 190, 3), (218, 272, 3), (218, 192, 3), (218, 257, 3),\n",
       "       (218, 231, 3), (218, 178, 3), (218, 117, 3), (218, 226, 3),\n",
       "       (218, 255, 3), (218, 229, 3)], dtype=object)"
      ]
     },
     "execution_count": 11,
     "metadata": {},
     "output_type": "execute_result"
    }
   ],
   "source": [
    "df[\"arr_shape\"].unique()"
   ]
  },
  {
   "cell_type": "code",
   "execution_count": 12,
   "id": "allied-career",
   "metadata": {},
   "outputs": [
    {
     "data": {
      "text/html": [
       "<div>\n",
       "<style scoped>\n",
       "    .dataframe tbody tr th:only-of-type {\n",
       "        vertical-align: middle;\n",
       "    }\n",
       "\n",
       "    .dataframe tbody tr th {\n",
       "        vertical-align: top;\n",
       "    }\n",
       "\n",
       "    .dataframe thead th {\n",
       "        text-align: right;\n",
       "    }\n",
       "</style>\n",
       "<table border=\"1\" class=\"dataframe\">\n",
       "  <thead>\n",
       "    <tr style=\"text-align: right;\">\n",
       "      <th></th>\n",
       "      <th>rating</th>\n",
       "      <th>arr_shape</th>\n",
       "      <th>size</th>\n",
       "    </tr>\n",
       "  </thead>\n",
       "  <tbody>\n",
       "    <tr>\n",
       "      <th>0</th>\n",
       "      <td>5.0</td>\n",
       "      <td>(218, 145, 3)</td>\n",
       "      <td>962</td>\n",
       "    </tr>\n",
       "    <tr>\n",
       "      <th>1</th>\n",
       "      <td>5.0</td>\n",
       "      <td>(218, 135, 3)</td>\n",
       "      <td>306</td>\n",
       "    </tr>\n",
       "    <tr>\n",
       "      <th>2</th>\n",
       "      <td>5.0</td>\n",
       "      <td>(218, 141, 3)</td>\n",
       "      <td>222</td>\n",
       "    </tr>\n",
       "  </tbody>\n",
       "</table>\n",
       "</div>"
      ],
      "text/plain": [
       "   rating      arr_shape  size\n",
       "0     5.0  (218, 145, 3)   962\n",
       "1     5.0  (218, 135, 3)   306\n",
       "2     5.0  (218, 141, 3)   222"
      ]
     },
     "metadata": {},
     "output_type": "display_data"
    },
    {
     "data": {
      "text/html": [
       "<div>\n",
       "<style scoped>\n",
       "    .dataframe tbody tr th:only-of-type {\n",
       "        vertical-align: middle;\n",
       "    }\n",
       "\n",
       "    .dataframe tbody tr th {\n",
       "        vertical-align: top;\n",
       "    }\n",
       "\n",
       "    .dataframe thead th {\n",
       "        text-align: right;\n",
       "    }\n",
       "</style>\n",
       "<table border=\"1\" class=\"dataframe\">\n",
       "  <thead>\n",
       "    <tr style=\"text-align: right;\">\n",
       "      <th></th>\n",
       "      <th>rating</th>\n",
       "      <th>arr_shape</th>\n",
       "      <th>size</th>\n",
       "    </tr>\n",
       "  </thead>\n",
       "  <tbody>\n",
       "    <tr>\n",
       "      <th>0</th>\n",
       "      <td>4.0</td>\n",
       "      <td>(218, 145, 3)</td>\n",
       "      <td>876</td>\n",
       "    </tr>\n",
       "    <tr>\n",
       "      <th>1</th>\n",
       "      <td>4.0</td>\n",
       "      <td>(218, 135, 3)</td>\n",
       "      <td>183</td>\n",
       "    </tr>\n",
       "    <tr>\n",
       "      <th>2</th>\n",
       "      <td>4.0</td>\n",
       "      <td>(218, 136, 3)</td>\n",
       "      <td>127</td>\n",
       "    </tr>\n",
       "  </tbody>\n",
       "</table>\n",
       "</div>"
      ],
      "text/plain": [
       "   rating      arr_shape  size\n",
       "0     4.0  (218, 145, 3)   876\n",
       "1     4.0  (218, 135, 3)   183\n",
       "2     4.0  (218, 136, 3)   127"
      ]
     },
     "metadata": {},
     "output_type": "display_data"
    }
   ],
   "source": [
    "shape_counts = df.groupby([\"rating\", \"arr_shape\"]).size().to_frame(name=\"size\").sort_values(\"size\", ascending=False).reset_index()\n",
    "display(shape_counts[shape_counts[\"rating\"] == 5.0].reset_index()[[\"rating\", \"arr_shape\", \"size\"]].head(3))\n",
    "display(shape_counts[shape_counts[\"rating\"] == 4.0].reset_index()[[\"rating\", \"arr_shape\", \"size\"]].head(3))"
   ]
  },
  {
   "cell_type": "code",
   "execution_count": 13,
   "id": "harmful-billion",
   "metadata": {},
   "outputs": [
    {
     "name": "stdout",
     "output_type": "stream",
     "text": [
      "Most common array shape for 5.0 ratings: (218, 145, 3)\n",
      "Most common array shape for 4.0 ratings: (218, 145, 3)\n"
     ]
    }
   ],
   "source": [
    "top_shape_5 = shape_counts[shape_counts[\"rating\"]==5.0].reset_index()[\"arr_shape\"][0]\n",
    "top_shape_4 = shape_counts[shape_counts[\"rating\"]==4.0].reset_index()[\"arr_shape\"][0]\n",
    "print(\"Most common array shape for 5.0 ratings:\", top_shape_5)\n",
    "print(\"Most common array shape for 4.0 ratings:\", top_shape_4)"
   ]
  },
  {
   "cell_type": "code",
   "execution_count": 14,
   "id": "precise-manner",
   "metadata": {},
   "outputs": [
    {
     "data": {
      "text/html": [
       "<div>\n",
       "<style scoped>\n",
       "    .dataframe tbody tr th:only-of-type {\n",
       "        vertical-align: middle;\n",
       "    }\n",
       "\n",
       "    .dataframe tbody tr th {\n",
       "        vertical-align: top;\n",
       "    }\n",
       "\n",
       "    .dataframe thead th {\n",
       "        text-align: right;\n",
       "    }\n",
       "</style>\n",
       "<table border=\"1\" class=\"dataframe\">\n",
       "  <thead>\n",
       "    <tr style=\"text-align: right;\">\n",
       "      <th></th>\n",
       "      <th>array</th>\n",
       "      <th>rating</th>\n",
       "    </tr>\n",
       "  </thead>\n",
       "  <tbody>\n",
       "    <tr>\n",
       "      <th>0</th>\n",
       "      <td>[[[1, 1, 1], [1, 1, 1], [1, 1, 1], [1, 1, 1], ...</td>\n",
       "      <td>4.0</td>\n",
       "    </tr>\n",
       "    <tr>\n",
       "      <th>1</th>\n",
       "      <td>[[[0, 80, 92], [0, 79, 92], [1, 79, 92], [3, 7...</td>\n",
       "      <td>4.0</td>\n",
       "    </tr>\n",
       "    <tr>\n",
       "      <th>2</th>\n",
       "      <td>[[[52, 41, 71], [44, 34, 69], [43, 35, 72], [4...</td>\n",
       "      <td>4.0</td>\n",
       "    </tr>\n",
       "    <tr>\n",
       "      <th>3</th>\n",
       "      <td>[[[179, 110, 68], [179, 111, 66], [179, 113, 6...</td>\n",
       "      <td>4.0</td>\n",
       "    </tr>\n",
       "    <tr>\n",
       "      <th>4</th>\n",
       "      <td>[[[0, 37, 64], [0, 49, 76], [0, 65, 94], [0, 8...</td>\n",
       "      <td>4.0</td>\n",
       "    </tr>\n",
       "    <tr>\n",
       "      <th>...</th>\n",
       "      <td>...</td>\n",
       "      <td>...</td>\n",
       "    </tr>\n",
       "    <tr>\n",
       "      <th>1833</th>\n",
       "      <td>[[[24, 65, 111], [24, 65, 111], [23, 64, 110],...</td>\n",
       "      <td>4.0</td>\n",
       "    </tr>\n",
       "    <tr>\n",
       "      <th>1834</th>\n",
       "      <td>[[[213, 1, 0], [215, 0, 0], [215, 0, 0], [211,...</td>\n",
       "      <td>4.0</td>\n",
       "    </tr>\n",
       "    <tr>\n",
       "      <th>1835</th>\n",
       "      <td>[[[171, 141, 113], [171, 139, 114], [171, 139,...</td>\n",
       "      <td>4.0</td>\n",
       "    </tr>\n",
       "    <tr>\n",
       "      <th>1836</th>\n",
       "      <td>[[[50, 54, 40], [37, 37, 27], [39, 32, 24], [5...</td>\n",
       "      <td>5.0</td>\n",
       "    </tr>\n",
       "    <tr>\n",
       "      <th>1837</th>\n",
       "      <td>[[[120, 131, 115], [150, 161, 145], [162, 173,...</td>\n",
       "      <td>4.0</td>\n",
       "    </tr>\n",
       "  </tbody>\n",
       "</table>\n",
       "<p>1838 rows × 2 columns</p>\n",
       "</div>"
      ],
      "text/plain": [
       "                                                  array  rating\n",
       "0     [[[1, 1, 1], [1, 1, 1], [1, 1, 1], [1, 1, 1], ...     4.0\n",
       "1     [[[0, 80, 92], [0, 79, 92], [1, 79, 92], [3, 7...     4.0\n",
       "2     [[[52, 41, 71], [44, 34, 69], [43, 35, 72], [4...     4.0\n",
       "3     [[[179, 110, 68], [179, 111, 66], [179, 113, 6...     4.0\n",
       "4     [[[0, 37, 64], [0, 49, 76], [0, 65, 94], [0, 8...     4.0\n",
       "...                                                 ...     ...\n",
       "1833  [[[24, 65, 111], [24, 65, 111], [23, 64, 110],...     4.0\n",
       "1834  [[[213, 1, 0], [215, 0, 0], [215, 0, 0], [211,...     4.0\n",
       "1835  [[[171, 141, 113], [171, 139, 114], [171, 139,...     4.0\n",
       "1836  [[[50, 54, 40], [37, 37, 27], [39, 32, 24], [5...     5.0\n",
       "1837  [[[120, 131, 115], [150, 161, 145], [162, 173,...     4.0\n",
       "\n",
       "[1838 rows x 2 columns]"
      ]
     },
     "execution_count": 14,
     "metadata": {},
     "output_type": "execute_result"
    }
   ],
   "source": [
    "xy = df[df[\"arr_shape\"] == top_shape_5][[\"array\", \"rating\"]].reset_index()\n",
    "xy = xy.sample(frac=1, random_state=19).reset_index(drop=True)[[\"array\", \"rating\"]]\n",
    "xy"
   ]
  },
  {
   "cell_type": "code",
   "execution_count": 28,
   "id": "material-bridges",
   "metadata": {},
   "outputs": [],
   "source": [
    "xy[\"array\"] = xy[\"array\"].apply(lambda x: x.tolist())"
   ]
  },
  {
   "cell_type": "code",
   "execution_count": 32,
   "id": "fallen-thong",
   "metadata": {},
   "outputs": [],
   "source": [
    "xy.to_csv(\"cleaned_ebook_info.csv\", index=False)"
   ]
  }
 ],
 "metadata": {
  "kernelspec": {
   "display_name": "Python 3",
   "language": "python",
   "name": "python3"
  },
  "language_info": {
   "codemirror_mode": {
    "name": "ipython",
    "version": 3
   },
   "file_extension": ".py",
   "mimetype": "text/x-python",
   "name": "python",
   "nbconvert_exporter": "python",
   "pygments_lexer": "ipython3",
   "version": "3.7.9"
  }
 },
 "nbformat": 4,
 "nbformat_minor": 5
}
