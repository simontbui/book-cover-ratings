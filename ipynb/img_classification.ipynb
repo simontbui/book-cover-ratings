{
 "cells": [
  {
   "cell_type": "code",
   "execution_count": 1,
   "id": "informed-blowing",
   "metadata": {},
   "outputs": [],
   "source": [
    "import pandas as pd\n",
    "pd.options.mode.chained_assignment = None \n",
    "import numpy as np\n",
    "from sklearn.model_selection import train_test_split, GridSearchCV, cross_val_score\n",
    "from sklearn.linear_model import LogisticRegression\n",
    "from sklearn.svm import SVC\n",
    "from sklearn.preprocessing import LabelBinarizer\n",
    "from sklearn.metrics import f1_score, accuracy_score, classification_report, precision_score, roc_curve, auc\n",
    "import pprint"
   ]
  },
  {
   "cell_type": "code",
   "execution_count": 2,
   "id": "organizational-position",
   "metadata": {},
   "outputs": [
    {
     "data": {
      "text/html": [
       "<div>\n",
       "<style scoped>\n",
       "    .dataframe tbody tr th:only-of-type {\n",
       "        vertical-align: middle;\n",
       "    }\n",
       "\n",
       "    .dataframe tbody tr th {\n",
       "        vertical-align: top;\n",
       "    }\n",
       "\n",
       "    .dataframe thead th {\n",
       "        text-align: right;\n",
       "    }\n",
       "</style>\n",
       "<table border=\"1\" class=\"dataframe\">\n",
       "  <thead>\n",
       "    <tr style=\"text-align: right;\">\n",
       "      <th></th>\n",
       "      <th>array</th>\n",
       "      <th>rating</th>\n",
       "    </tr>\n",
       "  </thead>\n",
       "  <tbody>\n",
       "    <tr>\n",
       "      <th>0</th>\n",
       "      <td>[[[1, 1, 1], [1, 1, 1], [1, 1, 1], [1, 1, 1], ...</td>\n",
       "      <td>4.0</td>\n",
       "    </tr>\n",
       "    <tr>\n",
       "      <th>1</th>\n",
       "      <td>[[[0, 80, 92], [0, 79, 92], [1, 79, 92], [3, 7...</td>\n",
       "      <td>4.0</td>\n",
       "    </tr>\n",
       "    <tr>\n",
       "      <th>2</th>\n",
       "      <td>[[[52, 41, 71], [44, 34, 69], [43, 35, 72], [4...</td>\n",
       "      <td>4.0</td>\n",
       "    </tr>\n",
       "    <tr>\n",
       "      <th>3</th>\n",
       "      <td>[[[179, 110, 68], [179, 111, 66], [179, 113, 6...</td>\n",
       "      <td>4.0</td>\n",
       "    </tr>\n",
       "    <tr>\n",
       "      <th>4</th>\n",
       "      <td>[[[0, 37, 64], [0, 49, 76], [0, 65, 94], [0, 8...</td>\n",
       "      <td>4.0</td>\n",
       "    </tr>\n",
       "  </tbody>\n",
       "</table>\n",
       "</div>"
      ],
      "text/plain": [
       "                                               array  rating\n",
       "0  [[[1, 1, 1], [1, 1, 1], [1, 1, 1], [1, 1, 1], ...     4.0\n",
       "1  [[[0, 80, 92], [0, 79, 92], [1, 79, 92], [3, 7...     4.0\n",
       "2  [[[52, 41, 71], [44, 34, 69], [43, 35, 72], [4...     4.0\n",
       "3  [[[179, 110, 68], [179, 111, 66], [179, 113, 6...     4.0\n",
       "4  [[[0, 37, 64], [0, 49, 76], [0, 65, 94], [0, 8...     4.0"
      ]
     },
     "execution_count": 2,
     "metadata": {},
     "output_type": "execute_result"
    }
   ],
   "source": [
    "xy = pd.read_csv(\"cleaned_ebook_info.csv\", converters={\"array\": eval})\n",
    "xy.head()"
   ]
  },
  {
   "cell_type": "code",
   "execution_count": 3,
   "id": "variable-value",
   "metadata": {},
   "outputs": [],
   "source": [
    "xy[\"array\"] = xy[\"array\"].apply(lambda x: np.array(x))"
   ]
  },
  {
   "cell_type": "code",
   "execution_count": 4,
   "id": "organizational-artwork",
   "metadata": {},
   "outputs": [
    {
     "data": {
      "text/html": [
       "<div>\n",
       "<style scoped>\n",
       "    .dataframe tbody tr th:only-of-type {\n",
       "        vertical-align: middle;\n",
       "    }\n",
       "\n",
       "    .dataframe tbody tr th {\n",
       "        vertical-align: top;\n",
       "    }\n",
       "\n",
       "    .dataframe thead th {\n",
       "        text-align: right;\n",
       "    }\n",
       "</style>\n",
       "<table border=\"1\" class=\"dataframe\">\n",
       "  <thead>\n",
       "    <tr style=\"text-align: right;\">\n",
       "      <th></th>\n",
       "      <th>array</th>\n",
       "      <th>rating</th>\n",
       "      <th>Binary</th>\n",
       "    </tr>\n",
       "  </thead>\n",
       "  <tbody>\n",
       "    <tr>\n",
       "      <th>0</th>\n",
       "      <td>[[[1, 1, 1], [1, 1, 1], [1, 1, 1], [1, 1, 1], ...</td>\n",
       "      <td>4.0</td>\n",
       "      <td>0</td>\n",
       "    </tr>\n",
       "    <tr>\n",
       "      <th>1</th>\n",
       "      <td>[[[0, 80, 92], [0, 79, 92], [1, 79, 92], [3, 7...</td>\n",
       "      <td>4.0</td>\n",
       "      <td>0</td>\n",
       "    </tr>\n",
       "    <tr>\n",
       "      <th>2</th>\n",
       "      <td>[[[52, 41, 71], [44, 34, 69], [43, 35, 72], [4...</td>\n",
       "      <td>4.0</td>\n",
       "      <td>0</td>\n",
       "    </tr>\n",
       "    <tr>\n",
       "      <th>3</th>\n",
       "      <td>[[[179, 110, 68], [179, 111, 66], [179, 113, 6...</td>\n",
       "      <td>4.0</td>\n",
       "      <td>0</td>\n",
       "    </tr>\n",
       "    <tr>\n",
       "      <th>4</th>\n",
       "      <td>[[[0, 37, 64], [0, 49, 76], [0, 65, 94], [0, 8...</td>\n",
       "      <td>4.0</td>\n",
       "      <td>0</td>\n",
       "    </tr>\n",
       "  </tbody>\n",
       "</table>\n",
       "</div>"
      ],
      "text/plain": [
       "                                               array  rating  Binary\n",
       "0  [[[1, 1, 1], [1, 1, 1], [1, 1, 1], [1, 1, 1], ...     4.0       0\n",
       "1  [[[0, 80, 92], [0, 79, 92], [1, 79, 92], [3, 7...     4.0       0\n",
       "2  [[[52, 41, 71], [44, 34, 69], [43, 35, 72], [4...     4.0       0\n",
       "3  [[[179, 110, 68], [179, 111, 66], [179, 113, 6...     4.0       0\n",
       "4  [[[0, 37, 64], [0, 49, 76], [0, 65, 94], [0, 8...     4.0       0"
      ]
     },
     "execution_count": 4,
     "metadata": {},
     "output_type": "execute_result"
    }
   ],
   "source": [
    "lb = LabelBinarizer()\n",
    "xy[\"Binary\"] = lb.fit_transform(xy[\"rating\"])\n",
    "xy.head()"
   ]
  },
  {
   "cell_type": "code",
   "execution_count": 5,
   "id": "satisfactory-wednesday",
   "metadata": {},
   "outputs": [],
   "source": [
    "X = []\n",
    "Y = []\n",
    "for array, rating in zip(xy[\"array\"], xy[\"rating\"]):\n",
    "    X.append(array.tolist())\n",
    "    Y.append(rating)"
   ]
  },
  {
   "cell_type": "code",
   "execution_count": 6,
   "id": "committed-simon",
   "metadata": {},
   "outputs": [
    {
     "name": "stdout",
     "output_type": "stream",
     "text": [
      "X shape: (1838, 218, 145, 3)\n",
      "Y shape: (1838,)\n"
     ]
    }
   ],
   "source": [
    "X = np.array(X)\n",
    "Y = np.array(Y).astype(int)\n",
    "print(\"X shape:\", X.shape)\n",
    "print(\"Y shape:\", Y.shape)"
   ]
  },
  {
   "cell_type": "code",
   "execution_count": 7,
   "id": "domestic-recruitment",
   "metadata": {},
   "outputs": [
    {
     "name": "stdout",
     "output_type": "stream",
     "text": [
      "X shape: (1838, 94830)\n"
     ]
    }
   ],
   "source": [
    "X = X.reshape((X.shape[0], X.shape[1] * X.shape[2] * X.shape[3]))\n",
    "print(\"X shape:\", X.shape)"
   ]
  },
  {
   "cell_type": "code",
   "execution_count": 8,
   "id": "mysterious-junction",
   "metadata": {},
   "outputs": [],
   "source": [
    "def grid_cv(X, Y, kernel, C, folds):\n",
    "    grid = {\"C\": [], \"precision\": []}\n",
    "    \n",
    "    for i in range(len(C)):\n",
    "        svm = SVC(C=C[i], kernel=kernel)\n",
    "        cv = cross_val_score(svm, X, Y, cv=folds, scoring=\"precision\")\n",
    "        grid[\"C\"].append(C[i])\n",
    "        grid[\"precision\"].append(np.mean(cv))\n",
    "        \n",
    "    return grid"
   ]
  },
  {
   "cell_type": "code",
   "execution_count": 9,
   "id": "favorite-halloween",
   "metadata": {},
   "outputs": [],
   "source": [
    "C = [0.01, 0.1, 1, 10, 100]\n",
    "svm_rbf = grid_cv(X, xy[\"Binary\"], kernel=\"rbf\", C=C, folds=5)\n",
    "svm_linear = grid_cv(X, xy[\"Binary\"], kernel=\"linear\", C=C, folds=5)\n",
    "svm_poly = grid_cv(X, xy[\"Binary\"], kernel=\"poly\", C=C, folds=5)"
   ]
  },
  {
   "cell_type": "code",
   "execution_count": 10,
   "id": "answering-constitutional",
   "metadata": {},
   "outputs": [
    {
     "name": "stdout",
     "output_type": "stream",
     "text": [
      "{'C': [0.01, 0.1, 1, 10, 100], 'precision': [0.5233947399597204, 0.5233947399597204, 0.5918146588324253, 0.6059401517780542, 0.6071849544717256]}\n",
      "{'C': [0.01, 0.1, 1, 10, 100], 'precision': [0.6026985767119869, 0.6026985767119869, 0.6026985767119869, 0.6026985767119869, 0.6026985767119869]}\n",
      "{'C': [0.01, 0.1, 1, 10, 100], 'precision': [0.5238689255350335, 0.5593756947721744, 0.6005538847117794, 0.6014603405735549, 0.5977619047619047]}\n"
     ]
    }
   ],
   "source": [
    "print(svm_rbf)\n",
    "print(svm_linear)\n",
    "print(svm_poly)"
   ]
  },
  {
   "cell_type": "code",
   "execution_count": 11,
   "id": "varied-fighter",
   "metadata": {},
   "outputs": [],
   "source": [
    "LR_clf = LogisticRegression(solver=\"liblinear\")\n",
    "LR_cv = cross_val_score(LR_clf, X, xy[\"Binary\"], cv=5, scoring=\"precision\")"
   ]
  },
  {
   "cell_type": "code",
   "execution_count": 13,
   "id": "wanted-lemon",
   "metadata": {},
   "outputs": [
    {
     "name": "stdout",
     "output_type": "stream",
     "text": [
      "0.6015160873629204\n"
     ]
    }
   ],
   "source": [
    "print(np.mean(LR_cv))"
   ]
  },
  {
   "cell_type": "code",
   "execution_count": 23,
   "id": "based-grass",
   "metadata": {},
   "outputs": [
    {
     "name": "stdout",
     "output_type": "stream",
     "text": [
      "Best SVM Precision: 0.6071849544717256\n",
      "Logistic Regression Precision: 0.6015160873629204\n"
     ]
    }
   ],
   "source": [
    "print(\"Best SVM Precision:\", max(max(svm_rbf[\"precision\"]),\n",
    "                                 max(svm_linear[\"precision\"]),\n",
    "                                 max(svm_poly[\"precision\"])))\n",
    "\n",
    "print(\"Logistic Regression Precision:\", np.mean(LR_cv))\n"
   ]
  }
 ],
 "metadata": {
  "kernelspec": {
   "display_name": "Python 3",
   "language": "python",
   "name": "python3"
  },
  "language_info": {
   "codemirror_mode": {
    "name": "ipython",
    "version": 3
   },
   "file_extension": ".py",
   "mimetype": "text/x-python",
   "name": "python",
   "nbconvert_exporter": "python",
   "pygments_lexer": "ipython3",
   "version": "3.7.9"
  }
 },
 "nbformat": 4,
 "nbformat_minor": 5
}
